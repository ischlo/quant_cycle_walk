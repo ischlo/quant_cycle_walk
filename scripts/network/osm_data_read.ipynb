{
 "cells": [
  {
   "cell_type": "code",
   "execution_count": 1,
   "id": "04c1db1c",
   "metadata": {},
   "outputs": [],
   "source": [
    "import numpy as np\n",
    "import pandas as pd\n",
    "import osmnx as ox\n",
    "import geopandas as gpd"
   ]
  },
  {
   "cell_type": "code",
   "execution_count": 2,
   "id": "e3392960",
   "metadata": {},
   "outputs": [],
   "source": [
    "import gc"
   ]
  },
  {
   "cell_type": "code",
   "execution_count": 3,
   "id": "7259783f",
   "metadata": {},
   "outputs": [],
   "source": [
    "ox.config(timeout=3600)"
   ]
  },
  {
   "cell_type": "markdown",
   "id": "6c4a8439",
   "metadata": {},
   "source": [
    "## Functions\n",
    "The function allows to delete all the unnecessary column \n",
    "and convert the types so that the data can further be exported as\n",
    "a spatial data file. "
   ]
  },
  {
   "cell_type": "code",
   "execution_count": 4,
   "id": "fb98a5d8",
   "metadata": {},
   "outputs": [],
   "source": [
    "def ready_to_export(data):\n",
    "    ''' data is blablabla '''\n",
    "    \n",
    "    keep = ['element_type','osmid','geometry','highway','bicycle','foot','cycleway'\n",
    "            #,'pedestrian'\n",
    "           ]\n",
    "    \n",
    "    data = data.reset_index()\n",
    "    data = data[keep]\n",
    "    data= data.astype({'highway':str\n",
    "                    , 'bicycle':str\n",
    "                    , 'foot':str\n",
    "                    , 'cycleway':str\n",
    "                    #, 'pedestrian': str\n",
    "                      })\n",
    "    \n",
    "    return data"
   ]
  },
  {
   "cell_type": "markdown",
   "id": "f0d9d793",
   "metadata": {},
   "source": [
    "--"
   ]
  },
  {
   "cell_type": "code",
   "execution_count": null,
   "id": "a9f8740c",
   "metadata": {},
   "outputs": [],
   "source": [
    "# bboxes of interest\n",
    "# london : 51.7211, 51.2533, 0.3117, -0.5521\n",
    "# brighton : 51.1035, 50.7829, 0.1071, -0.7443\n",
    "# ukraine: 53.436, 44.135, 42.319, 21.797"
   ]
  },
  {
   "cell_type": "code",
   "execution_count": null,
   "id": "ad714c2a",
   "metadata": {},
   "outputs": [],
   "source": [
    "brighton_custom_cycle.columns.to_list()"
   ]
  },
  {
   "cell_type": "markdown",
   "id": "0010953c",
   "metadata": {},
   "source": [
    "Downloading data for cycle ways tags to select come from:\n",
    "\n",
    "https://wiki.openstreetmap.org/wiki/Bicycle"
   ]
  },
  {
   "cell_type": "code",
   "execution_count": 5,
   "id": "7340f719",
   "metadata": {},
   "outputs": [],
   "source": [
    "# tags corresponding to cycleways\n",
    "tags_cycle = {\n",
    "  \"highway\" : [\"cycleway\",\"path\",\"primary\",\"secondary\",\"tertiary\",\"unclassified\"\n",
    "                ,\"residential\",\"primary_link\",\"secondary_link\",\"tertiary_link\"]\n",
    "  ,\"cycleway\": True\n",
    "  ,\"bicycle\" : [\"yes\", \"designated\",\"permissive\",\"destination\",\"dismount\"]\n",
    "  ,\"surface\":True\n",
    "}"
   ]
  },
  {
   "cell_type": "code",
   "execution_count": 6,
   "id": "fc8ec6a6",
   "metadata": {},
   "outputs": [
    {
     "name": "stderr",
     "output_type": "stream",
     "text": [
      "/opt/anaconda3/lib/python3.9/site-packages/osmnx/geometries.py:805: ShapelyDeprecationWarning: __len__ for multi-part geometries is deprecated and will be removed in Shapely 2.0. Check the length of the `geoms` property instead to get the  number of parts of a multi-part geometry.\n",
      "  for merged_outer_linestring in list(merged_outer_linestrings):\n",
      "/opt/anaconda3/lib/python3.9/site-packages/osmnx/geometries.py:805: ShapelyDeprecationWarning: Iteration over multi-part geometries is deprecated and will be removed in Shapely 2.0. Use the `geoms` property to access the constituent parts of a multi-part geometry.\n",
      "  for merged_outer_linestring in list(merged_outer_linestrings):\n"
     ]
    }
   ],
   "source": [
    "area_custom_cycle=ox.geometries_from_bbox(51.7211\n",
    "                                          ,51.2533\n",
    "                                          ,0.3117\n",
    "                                          ,-0.5521\n",
    "                                          ,tags = tags_cycle)"
   ]
  },
  {
   "cell_type": "code",
   "execution_count": 11,
   "id": "3f68230c",
   "metadata": {},
   "outputs": [
    {
     "data": {
      "text/plain": [
       "Index(['highway', 'name', 'geometry', 'crossing', 'crossing_ref',\n",
       "       'traffic_signals:direction', 'bicycle', 'ref', 'layer', 'alt_name',\n",
       "       ...\n",
       "       'proposed:psv', 'disused:parking:lane:both',\n",
       "       'disused:parking:lane:both:parallel', 'disused:sidewalk', 'foot:note',\n",
       "       'bus:forward', 'motorcycle:forward', 'taxi:forward',\n",
       "       'disused:cycleway:right:oneway', 'handrail:centre'],\n",
       "      dtype='object', length=1215)"
      ]
     },
     "execution_count": 11,
     "metadata": {},
     "output_type": "execute_result"
    }
   ],
   "source": [
    "area_custom_cycle.columns"
   ]
  },
  {
   "cell_type": "code",
   "execution_count": 12,
   "id": "1b8ceaaa",
   "metadata": {},
   "outputs": [],
   "source": [
    "area_custom_cycle = ready_to_export(area_custom_cycle)"
   ]
  },
  {
   "cell_type": "code",
   "execution_count": 13,
   "id": "368dc5fc",
   "metadata": {},
   "outputs": [],
   "source": [
    "area_custom_cycle.to_file(\"london_custom_cycle.geojson\",driver = \"GeoJSON\")"
   ]
  },
  {
   "cell_type": "markdown",
   "id": "edcfe763",
   "metadata": {},
   "source": [
    "Downloading the data for all roads:\n",
    "\n",
    "https://wiki.openstreetmap.org/wiki/Key:highway"
   ]
  },
  {
   "cell_type": "code",
   "execution_count": 36,
   "id": "013789ac",
   "metadata": {},
   "outputs": [],
   "source": [
    "# tags for the general road network containing all segments\n",
    "tags_highway = {\n",
    "  \"highway\" : True\n",
    "}"
   ]
  },
  {
   "cell_type": "code",
   "execution_count": 37,
   "id": "7f56348f",
   "metadata": {},
   "outputs": [],
   "source": [
    "area_custom_all = ox.geometries_from_bbox(51.7211\n",
    "                                          ,51.2533\n",
    "                                          ,0.3117\n",
    "                                          ,-0.5521\n",
    "                                          ,tags = tags_highway)"
   ]
  },
  {
   "cell_type": "code",
   "execution_count": 40,
   "id": "93d33a8d",
   "metadata": {},
   "outputs": [],
   "source": [
    "area_custom_all = ready_to_export(area_custom_all)"
   ]
  },
  {
   "cell_type": "code",
   "execution_count": 41,
   "id": "e3603adc",
   "metadata": {},
   "outputs": [],
   "source": [
    "area_custom_all.to_file(\"brighton_custom_all.geojson\"\n",
    "                            ,driver = \"GeoJSON\")"
   ]
  },
  {
   "cell_type": "markdown",
   "id": "8f19abf5",
   "metadata": {},
   "source": [
    "Downloading data for pedestrian ways: \n",
    "\n",
    "https://wiki.openstreetmap.org/wiki/Walking_Routes\n",
    "\n",
    "https://wiki.openstreetmap.org/wiki/Pedestrian"
   ]
  },
  {
   "cell_type": "code",
   "execution_count": 45,
   "id": "ff497405",
   "metadata": {},
   "outputs": [],
   "source": [
    "# tags for walkable segments\n",
    "# add tags from map features OSM\n",
    "tags_walk = {\n",
    "  \"highway\" : [\"pedestrian\"\n",
    "               ,\"footway\"\n",
    "               ,\"path\"\n",
    "               ,\"cycleway\"\n",
    "               ,\"steps\"\n",
    "               #,\"unclassified\"\n",
    "               #,\"residential\"\n",
    "              ]\n",
    "  ,\"foot\" : [\"yes\", \"designated\",\"permissive\"]\n",
    "}"
   ]
  },
  {
   "cell_type": "code",
   "execution_count": 43,
   "id": "2fa7eb9f",
   "metadata": {},
   "outputs": [],
   "source": [
    "area_custom_walk = ox.geometries_from_bbox(51.7211\n",
    "                                          ,51.2533\n",
    "                                          ,0.3117\n",
    "                                          ,-0.5521\n",
    "                                          ,tags = tags_walk)"
   ]
  },
  {
   "cell_type": "code",
   "execution_count": 47,
   "id": "9a7aacb6",
   "metadata": {},
   "outputs": [],
   "source": [
    "area_custom_walk = ready_to_export(area_custom_walk)"
   ]
  },
  {
   "cell_type": "code",
   "execution_count": 48,
   "id": "652c7862",
   "metadata": {},
   "outputs": [],
   "source": [
    "area_custom_walk.to_file(\"brighton_custom_walk.geojson\"\n",
    "                            ,driver = \"GeoJSON\")"
   ]
  },
  {
   "cell_type": "code",
   "execution_count": null,
   "id": "1a97e5e1",
   "metadata": {},
   "outputs": [],
   "source": []
  }
 ],
 "metadata": {
  "kernelspec": {
   "display_name": "urbsim",
   "language": "python",
   "name": "urbsim"
  },
  "language_info": {
   "codemirror_mode": {
    "name": "ipython",
    "version": 3
   },
   "file_extension": ".py",
   "mimetype": "text/x-python",
   "name": "python",
   "nbconvert_exporter": "python",
   "pygments_lexer": "ipython3",
   "version": "3.9.7"
  }
 },
 "nbformat": 4,
 "nbformat_minor": 5
}
